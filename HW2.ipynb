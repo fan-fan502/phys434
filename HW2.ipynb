{
 "cells": [
  {
   "cell_type": "code",
   "execution_count": 1,
   "metadata": {},
   "outputs": [],
   "source": [
    "import numpy as np\n",
    "import matplotlib\n",
    "import matplotlib.pyplot as plt\n",
    "import scipy\n",
    "from scipy import stats\n",
    "np.random.seed(2)"
   ]
  },
  {
   "cell_type": "code",
   "execution_count": 2,
   "metadata": {},
   "outputs": [],
   "source": [
    "#1) \n",
    "#Probabilty of rolling snake eyes:\n",
    "#The Probability of two ones = 1/6 * 1/6 = 1/36\n",
    "#The probability of two dice sum to 7 = (1/6 * 1/6) * 6 = 1/6\n",
    "#1/6 > 1/36 So rolling sevens is more probable.\n",
    "#Ratio:\n",
    "#P(snake eyes) : P(dice sum to seven) = 1:6"
   ]
  },
  {
   "cell_type": "code",
   "execution_count": 13,
   "metadata": {},
   "outputs": [
    {
     "data": {
      "text/plain": [
       "<BarContainer object of 11 artists>"
      ]
     },
     "execution_count": 13,
     "metadata": {},
     "output_type": "execute_result"
    },
    {
     "data": {
      "image/png": "[encoded data removed]",
      "text/plain": [
       "<Figure size 432x288 with 1 Axes>"
      ]
     },
     "metadata": {
      "needs_background": "light"
     },
     "output_type": "display_data"
    }
   ],
   "source": [
    "#2) \n",
    "#The first dice is A dice and the second dice is B dice\n",
    "#P(1) = 0 since there is no way to have two dice sum up to 1\n",
    "#Sum of 2: A1 + B1 \n",
    "#P(2) = 1/36\n",
    "#Sum of 3: A1 + B2,  A2 + B1\n",
    "#P(3) = 1/36 * 2 = 1/18\n",
    "#Sum of 4: A1 + B3, A2 + B2, A3 + B1; \n",
    "#P(4) = 1/36 * 3 = 1/12\n",
    "#Sum of 5: A1 + B4, A2 + B3, A3 + B2, A4 + B1;\n",
    "#P(5) = 1/36 * 4 = 1/9\n",
    "#Sum of 6: A1 + B5, A2 + B4, A3 + B3, A4 + B2, A5 + B1;\n",
    "#P(6) = 1/36 * 5 = 5/36\n",
    "#Sum of 7: A1 + B6, A2 + B5, A3 + B4, A4 + B3, A5 + B2, A6 + B1\n",
    "#P(7) = 1/36 * 6 = 1/6\n",
    "#Sum of 8: A2 + B6, A3 + B5, A4 + B4, A5 + B3, A6 + B2\n",
    "#P(8) = 1/36 * 5 = 5/36\n",
    "#Sum of 9: A3 + B6, A4 + B5, A5 + B4, A6 + B3\n",
    "#P(9) = 1/36 * 4 = 1/9\n",
    "#Sum of 10: A4 + B6, A5 + B5, A6 + B4\n",
    "#P(10) = 1/36 * 3 = 1/12 \n",
    "#Sum of 11: A5 + B6, A6 + B5\n",
    "#P(11) = 1/36 * 2 = 1/18\n",
    "#Sum of 12: A6 + B6\n",
    "#P(12) = 1/36 * 1 = 1/36\n",
    "dice = [1/6,1/6,1/6,1/6,1/6,1/6]\n",
    "probability =  np.convolve(dice,dice)\n",
    "xaxis = [2,3,4,5,6,7,8,9,10,11,12]\n",
    "fiig,ax = plt.subplots(1,1)\n",
    "plt.title(\"Probability distribution of the Sum dice\")\n",
    "plt.xlabel(\"Sum of 2 six sided dice\")\n",
    "plt.ylabel(\"Probability\")\n",
    "plt.bar(xaxis,probability)"
   ]
  },
  {
   "cell_type": "code",
   "execution_count": 18,
   "metadata": {},
   "outputs": [
    {
     "name": "stdout",
     "output_type": "stream",
     "text": [
      "7.0\n",
      "5.833333333333334\n"
     ]
    }
   ],
   "source": [
    "#3) \n",
    "#mean = μ = Σxp\n",
    "# variance = Var(X) = Σx^2*p − μ^2\n",
    "mean = sum(xaxis * probability)\n",
    "print(mean)\n",
    "\n",
    "variance = sum((xaxis-mean)**2*probability)\n",
    "print(variance)"
   ]
  },
  {
   "cell_type": "code",
   "execution_count": 66,
   "metadata": {},
   "outputs": [
    {
     "data": {
      "image/png": "[encoded data removed]",
      "text/plain": [
       "<Figure size 432x288 with 1 Axes>"
      ]
     },
     "metadata": {
      "needs_background": "light"
     },
     "output_type": "display_data"
    }
   ],
   "source": [
    "#4)\n",
    "dice = [1/6,1/6,1/6,1/6,1/6,1/6]\n",
    "probability =  np.convolve(dice,dice)\n",
    "xaxis = 61\n",
    "for i in range(8):\n",
    "    probability = np.convolve(probability, dice)\n",
    "fig = plt.bar(np.arange(10,xaxis), probability)\n",
    "\n",
    "plt.show()"
   ]
  },
  {
   "cell_type": "code",
   "execution_count": 70,
   "metadata": {},
   "outputs": [
    {
     "name": "stdout",
     "output_type": "stream",
     "text": [
      "Looking the graph above, the average of 10 dice is a Guassian distribution.You can see from the graph that the biggest probability is at the center which is 35 and the shape is most likely a symmetrical about the center. So this follows the rules of normal distribution. When we do convolution, the probability distribution is normally distributed, so it will all be the same\n"
     ]
    }
   ],
   "source": [
    "print('Looking the graph above, the average of 10 dice is a Guassian distribution.You can see from the graph that the biggest probability is at the center which is 35 and the shape is most likely a symmetrical about the center. So this follows the rules of normal distribution. When we do convolution, the probability distribution is normally distributed, so it will all be the same')\n"
   ]
  },
  {
   "cell_type": "code",
   "execution_count": 78,
   "metadata": {},
   "outputs": [
    {
     "data": {
      "image/png": "[encoded data removed]",
      "text/plain": [
       "<Figure size 432x288 with 1 Axes>"
      ]
     },
     "metadata": {
      "needs_background": "light"
     },
     "output_type": "display_data"
    },
    {
     "name": "stdout",
     "output_type": "stream",
     "text": [
      "The sum and average of an initially Gaussian distribution is also a Guassian because they have the same functions but just adding the second variable to the first one. So the shape will stay the same. The standard deviation of the resulting sum or average Guassian will get smaller if two standerd deviation are added together. The meanning for integrating a signal over time is that the standard deviation changes as you increase or decrease a signal and in order to get a more presice standard deviation, we have to do the distribution for more times. \n"
     ]
    }
   ],
   "source": [
    "#5)\n",
    "dice = [1/6,1/6,1/6,1/6,1/6,1/6]\n",
    "probability =  np.convolve(dice,dice)\n",
    "xaxis = 61\n",
    "for i in range(8):\n",
    "    probability = np.convolve(probability, dice)\n",
    "fig = plt.bar(np.arange(10,xaxis)/10, probability, width = 0.1)\n",
    "\n",
    "plt.show()\n",
    "print('The sum and average of an initially Gaussian distribution is also a Guassian because they have the same functions but just adding the second variable to the first one. So the shape will stay the same. The standard deviation of the resulting sum or average Guassian will get smaller if two standerd deviation are added together. The meanning for integrating a signal over time is that the standard deviation changes as you increase or decrease a signal and in order to get a more presice standard deviation, we have to do the distribution for more times. ')"
   ]
  },
  {
   "cell_type": "code",
   "execution_count": null,
   "metadata": {},
   "outputs": [],
   "source": []
  }
 ],
 "metadata": {
  "kernelspec": {
   "display_name": "Python 3",
   "language": "python",
   "name": "python3"
  },
  "language_info": {
   "codemirror_mode": {
    "name": "ipython",
    "version": 3
   },
   "file_extension": ".py",
   "mimetype": "text/x-python",
   "name": "python",
   "nbconvert_exporter": "python",
   "pygments_lexer": "ipython3",
   "version": "3.7.4"
  }
 },
 "nbformat": 4,
 "nbformat_minor": 4
}
