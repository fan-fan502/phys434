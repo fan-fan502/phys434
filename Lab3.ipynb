{
 "cells": [
  {
   "cell_type": "markdown",
   "metadata": {},
   "source": [
    "Problem 1\n",
    "In our first example we are looking at the temperature reading (meta-data) associated with an experiment. For the experiment to work reliably, the temperature should be at around 12 Kelvin, and if we look at the data it is mostly consistent with 12 Kelvin to within the 0.4 degree precision of the thermometry and the thermal control system (standard deviation). However, there are times when the thermal control system misbehaved and the temperature was not near 12 K, and in addition there are various glitches in the thermometry that give anomalously high and low readings (the reading does not match the real temperature). We definitely want to identify and throw out all the data when the thermal control system was not working (and the temperature was truly off from nominal). While it is possible to have an error in the thermometry such that the true temperature was fine, and we just had a wonky reading, in an abundance of caution we want to throw those values out too."
   ]
  },
  {
   "cell_type": "code",
   "execution_count": 75,
   "metadata": {},
   "outputs": [],
   "source": [
    "%matplotlib inline\n",
    "import numpy as np\n",
    "import matplotlib\n",
    "import matplotlib.pyplot as plt\n",
    "import scipy\n",
    "import scipy.signal\n",
    "from scipy import stats\n",
    "import pandas as pd\n",
    "\n",
    "#this sets the size of the plot to something useful\n",
    "plt.rcParams[\"figure.figsize\"] = (20,15)"
   ]
  },
  {
   "cell_type": "markdown",
   "metadata": {},
   "source": [
    "To make this a bit concrete, we will simulate a little data. Start by simulating 100k 'good' data points assuming Gaussian fluctations, and because we are playing god adding the following 'bad' datapoints: {10., 10.3, 2.1, 0., 0., 15.6, 22.3, 12.7}"
   ]
  },
  {
   "cell_type": "code",
   "execution_count": 67,
   "metadata": {},
   "outputs": [
    {
     "data": {
      "image/png": "[encoded data removed]",
      "text/plain": [
       "<Figure size 1440x1080 with 1 Axes>"
      ]
     },
     "metadata": {
      "needs_background": "light"
     },
     "output_type": "display_data"
    }
   ],
   "source": [
    "d = np.append(stats.norm.rvs(loc = 12., scale = 0.4, size = 100000), [10., 10.3, 2.1, 0., 0., 15.6, 22.3, 12.7])\n",
    "fig, ax = plt.subplots(1, 1)\n",
    "ax.hist(d,100, density=True)\n",
    "plt.tick_params(labelsize = 24)\n",
    "plt.yscale('log')\n",
    "#x = np.linspace(4.95,5.05,1000)\n",
    "#ax.plot(x,stats.norm.pdf(x,loc = 5., scale = 0.01),linewidth = 8,alpha = 0.7)\n",
    "plt.show()"
   ]
  },
  {
   "cell_type": "markdown",
   "metadata": {},
   "source": [
    "A) So our goal is to identify bad data and throw it out.\n",
    "\n",
    "1. Start by exploring the data you have created with appropriate plots\n",
    "2. State the statistical question in words. Be very clear, and describe why you have chosen this statistical question.\n",
    " \n",
    "Is there a way that we can distinguish whether it is a good data or bad data? The reason why i chose this statistical question is because i think we can find the probability of getting a bad data and then find the relevent sigma, and outline the sigma must be the bad data point.\n",
    "\n",
    "3. Restate your question in math. Be very clear.\n",
    "If we know assume that the data outside +- 3 sigmas away can be regarded as bad datas, how many actually bad datas are there within 3 sigmas, or we can do better, we can say how about 5 sigmas away..."
   ]
  },
  {
   "cell_type": "code",
   "execution_count": null,
   "metadata": {},
   "outputs": [],
   "source": []
  },
  {
   "cell_type": "markdown",
   "metadata": {},
   "source": [
    "4. Apply your statistical test and construct a truth table.\n",
    "\n",
    "We are trying to find the sigma value with a probability of getting bad value. p = 8 / 100000"
   ]
  },
  {
   "cell_type": "code",
   "execution_count": 68,
   "metadata": {},
   "outputs": [
    {
     "data": {
      "text/plain": [
       "3.7750318807261567"
      ]
     },
     "execution_count": 68,
     "metadata": {},
     "output_type": "execute_result"
    }
   ],
   "source": [
    "-stats.norm.ppf(8/100008)"
   ]
  },
  {
   "cell_type": "markdown",
   "metadata": {},
   "source": [
    "This value represents the boundary on the left side"
   ]
  },
  {
   "cell_type": "code",
   "execution_count": 50,
   "metadata": {},
   "outputs": [
    {
     "data": {
      "text/plain": [
       "10.489987247709537"
      ]
     },
     "execution_count": 50,
     "metadata": {},
     "output_type": "execute_result"
    }
   ],
   "source": [
    "stats.norm.ppf(8/100008,loc = 12., scale = 0.4)"
   ]
  },
  {
   "cell_type": "markdown",
   "metadata": {},
   "source": [
    "This value represents the boundary on the right side."
   ]
  },
  {
   "cell_type": "code",
   "execution_count": 87,
   "metadata": {},
   "outputs": [
    {
     "data": {
      "text/plain": [
       "13.510012752290463"
      ]
     },
     "execution_count": 87,
     "metadata": {},
     "output_type": "execute_result"
    }
   ],
   "source": [
    "stats.norm.isf(8/100008,loc = 12., scale = 0.4)"
   ]
  },
  {
   "cell_type": "markdown",
   "metadata": {},
   "source": []
  },
  {
   "cell_type": "code",
   "execution_count": 96,
   "metadata": {},
   "outputs": [],
   "source": [
    "gooddata = stats.norm.rvs(loc = 12., scale = 0.4, size = 100000)\n",
    "baddata = [10., 10.3, 2.1, 0., 0., 15.6, 22.3, 12.7]\n",
    "truenegative = 0\n",
    "falsepositive = 0\n",
    "falsenegative = 0\n",
    "truepositive = 0\n",
    "high = stats.norm.isf(8/100008,loc=12,scale=0.4)\n",
    "low = stats.norm.ppf(8/100008,loc=12,scale=0.4)\n",
    "for point in gooddata:\n",
    "    if point > high or point < low:\n",
    "        truenegative = truenegative + 1\n",
    "    else:\n",
    "        truepositive = truepositive + 1\n",
    "\n",
    "for point in baddata:\n",
    "    if point > high or point < low:\n",
    "        falsenegative = falsenegative + 1\n",
    "    else:\n",
    "        falsepositive = falsepositive + 1\n",
    "        \n",
    "        \n",
    "truthtable = pd.DataFrame(np.array([[truepositive,falsepositive],[truenegative,falsenegative]]),index = ['Positive','Negative'], columns=['True', 'False'])"
   ]
  },
  {
   "cell_type": "code",
   "execution_count": 97,
   "metadata": {},
   "outputs": [
    {
     "data": {
      "text/html": [
       "<div>\n",
       "<style scoped>\n",
       "    .dataframe tbody tr th:only-of-type {\n",
       "        vertical-align: middle;\n",
       "    }\n",
       "\n",
       "    .dataframe tbody tr th {\n",
       "        vertical-align: top;\n",
       "    }\n",
       "\n",
       "    .dataframe thead th {\n",
       "        text-align: right;\n",
       "    }\n",
       "</style>\n",
       "<table border=\"1\" class=\"dataframe\">\n",
       "  <thead>\n",
       "    <tr style=\"text-align: right;\">\n",
       "      <th></th>\n",
       "      <th>True</th>\n",
       "      <th>False</th>\n",
       "    </tr>\n",
       "  </thead>\n",
       "  <tbody>\n",
       "    <tr>\n",
       "      <th>Positive</th>\n",
       "      <td>99987</td>\n",
       "      <td>1</td>\n",
       "    </tr>\n",
       "    <tr>\n",
       "      <th>Negative</th>\n",
       "      <td>13</td>\n",
       "      <td>7</td>\n",
       "    </tr>\n",
       "  </tbody>\n",
       "</table>\n",
       "</div>"
      ],
      "text/plain": [
       "           True  False\n",
       "Positive  99987      1\n",
       "Negative     13      7"
      ]
     },
     "execution_count": 97,
     "metadata": {},
     "output_type": "execute_result"
    }
   ],
   "source": [
    "truthtable"
   ]
  },
  {
   "cell_type": "markdown",
   "metadata": {},
   "source": [
    "B) How does the number of omissions, where you threw out good data, depend on the statistical threshold you chose and is it a predictable quantity?"
   ]
  },
  {
   "cell_type": "markdown",
   "metadata": {},
   "source": [
    "It depends on what sigma value we choose. If we choose a smaller sigma, we will end up with less bad datas and more good datas and if we choose a bigger sigma, we will have more bad datas and less good datas. Lets try with a sigma value 2."
   ]
  },
  {
   "cell_type": "code",
   "execution_count": 100,
   "metadata": {},
   "outputs": [],
   "source": [
    "truenegative = 0\n",
    "falsepositive = 0\n",
    "falsenegative = 0\n",
    "truepositive = 0\n",
    "pro = scipy.stats.norm.sf(2)\n",
    "high = stats.norm.isf(pro,loc=12,scale=0.4)\n",
    "low = stats.norm.ppf(pro,loc=12,scale=0.4)\n",
    "for point in gooddata:\n",
    "    if point > high or point < low:\n",
    "        truenegative = truenegative + 1\n",
    "    else:\n",
    "        truepositive = truepositive + 1\n",
    "\n",
    "for point in baddata:\n",
    "    if point > high or point < low:\n",
    "        falsenegative = falsenegative + 1\n",
    "    else:\n",
    "        falsepositive = falsepositive + 1\n",
    "        \n",
    "        \n",
    "truthtable = pd.DataFrame(np.array([[truepositive,falsepositive],[truenegative,falsenegative]]),index = ['Positive','Negative'], columns=['True', 'False'])"
   ]
  },
  {
   "cell_type": "code",
   "execution_count": 101,
   "metadata": {},
   "outputs": [
    {
     "data": {
      "text/html": [
       "<div>\n",
       "<style scoped>\n",
       "    .dataframe tbody tr th:only-of-type {\n",
       "        vertical-align: middle;\n",
       "    }\n",
       "\n",
       "    .dataframe tbody tr th {\n",
       "        vertical-align: top;\n",
       "    }\n",
       "\n",
       "    .dataframe thead th {\n",
       "        text-align: right;\n",
       "    }\n",
       "</style>\n",
       "<table border=\"1\" class=\"dataframe\">\n",
       "  <thead>\n",
       "    <tr style=\"text-align: right;\">\n",
       "      <th></th>\n",
       "      <th>True</th>\n",
       "      <th>False</th>\n",
       "    </tr>\n",
       "  </thead>\n",
       "  <tbody>\n",
       "    <tr>\n",
       "      <th>Positive</th>\n",
       "      <td>95407</td>\n",
       "      <td>1</td>\n",
       "    </tr>\n",
       "    <tr>\n",
       "      <th>Negative</th>\n",
       "      <td>4593</td>\n",
       "      <td>7</td>\n",
       "    </tr>\n",
       "  </tbody>\n",
       "</table>\n",
       "</div>"
      ],
      "text/plain": [
       "           True  False\n",
       "Positive  95407      1\n",
       "Negative   4593      7"
      ]
     },
     "execution_count": 101,
     "metadata": {},
     "output_type": "execute_result"
    }
   ],
   "source": [
    "truthtable"
   ]
  },
  {
   "cell_type": "markdown",
   "metadata": {},
   "source": [
    "Lets try with a sigma value 8."
   ]
  },
  {
   "cell_type": "code",
   "execution_count": 94,
   "metadata": {},
   "outputs": [],
   "source": [
    "truenegative = 0\n",
    "falsepositive = 0\n",
    "falsenegative = 0\n",
    "truepositive = 0\n",
    "pro = scipy.stats.norm.sf(8)\n",
    "high = stats.norm.isf(pro,loc=12,scale=0.4)\n",
    "low = stats.norm.ppf(pro,loc=12,scale=0.4)\n",
    "for point in gooddata:\n",
    "    if point > high or point < low:\n",
    "        truenegative = truenegative + 1\n",
    "    else:\n",
    "        truepositive = truepositive + 1\n",
    "\n",
    "for point in baddata:\n",
    "    if point > high or point < low:\n",
    "        falsenegative = falsenegative + 1\n",
    "    else:\n",
    "        falsepositive = falsepositive + 1\n",
    "        \n",
    "        \n",
    "truthtable = pd.DataFrame(np.array([[truepositive,falsepositive],[truenegative,falsenegative]]),index = ['Positive','Negative'], columns=['True', 'False'])"
   ]
  },
  {
   "cell_type": "code",
   "execution_count": 95,
   "metadata": {},
   "outputs": [
    {
     "data": {
      "text/html": [
       "<div>\n",
       "<style scoped>\n",
       "    .dataframe tbody tr th:only-of-type {\n",
       "        vertical-align: middle;\n",
       "    }\n",
       "\n",
       "    .dataframe tbody tr th {\n",
       "        vertical-align: top;\n",
       "    }\n",
       "\n",
       "    .dataframe thead th {\n",
       "        text-align: right;\n",
       "    }\n",
       "</style>\n",
       "<table border=\"1\" class=\"dataframe\">\n",
       "  <thead>\n",
       "    <tr style=\"text-align: right;\">\n",
       "      <th></th>\n",
       "      <th>True</th>\n",
       "      <th>False</th>\n",
       "    </tr>\n",
       "  </thead>\n",
       "  <tbody>\n",
       "    <tr>\n",
       "      <th>Positive</th>\n",
       "      <td>100000</td>\n",
       "      <td>3</td>\n",
       "    </tr>\n",
       "    <tr>\n",
       "      <th>Negative</th>\n",
       "      <td>0</td>\n",
       "      <td>5</td>\n",
       "    </tr>\n",
       "  </tbody>\n",
       "</table>\n",
       "</div>"
      ],
      "text/plain": [
       "            True  False\n",
       "Positive  100000      3\n",
       "Negative       0      5"
      ]
     },
     "execution_count": 95,
     "metadata": {},
     "output_type": "execute_result"
    }
   ],
   "source": [
    "truthtable"
   ]
  },
  {
   "cell_type": "markdown",
   "metadata": {},
   "source": [
    "As you can see, when we do 2 sigmas, more good datas appears and when we do 8 sigmas, number of positive false increases, meaning that more bad datas has been taken."
   ]
  },
  {
   "cell_type": "markdown",
   "metadata": {},
   "source": [
    "\n",
    "\n",
    "C) Are there mistakes of commission (bad data getting in)? If yes, are they avoidable and how do they depend on your statistical threshold?\n"
   ]
  },
  {
   "cell_type": "markdown",
   "metadata": {},
   "source": [
    "Yes, we have a mistake of commission, but if we lower the sigma value, we can lower the risk of getting bad values since we are trying to collect the data around the mean. As what i did from the above, we used the sigma value 2, and we can see that less bad data appears. Lets try with sigma value as 1.\n"
   ]
  },
  {
   "cell_type": "code",
   "execution_count": 102,
   "metadata": {},
   "outputs": [],
   "source": [
    "truenegative = 0\n",
    "falsepositive = 0\n",
    "falsenegative = 0\n",
    "truepositive = 0\n",
    "pro = scipy.stats.norm.sf(1)\n",
    "high = stats.norm.isf(pro,loc=12,scale=0.4)\n",
    "low = stats.norm.ppf(pro,loc=12,scale=0.4)\n",
    "for point in gooddata:\n",
    "    if point > high or point < low:\n",
    "        truenegative = truenegative + 1\n",
    "    else:\n",
    "        truepositive = truepositive + 1\n",
    "\n",
    "for point in baddata:\n",
    "    if point > high or point < low:\n",
    "        falsenegative = falsenegative + 1\n",
    "    else:\n",
    "        falsepositive = falsepositive + 1\n",
    "        \n",
    "        \n",
    "truthtable = pd.DataFrame(np.array([[truepositive,falsepositive],[truenegative,falsenegative]]),index = ['Positive','Negative'], columns=['True', 'False'])"
   ]
  },
  {
   "cell_type": "code",
   "execution_count": 103,
   "metadata": {},
   "outputs": [
    {
     "data": {
      "text/html": [
       "<div>\n",
       "<style scoped>\n",
       "    .dataframe tbody tr th:only-of-type {\n",
       "        vertical-align: middle;\n",
       "    }\n",
       "\n",
       "    .dataframe tbody tr th {\n",
       "        vertical-align: top;\n",
       "    }\n",
       "\n",
       "    .dataframe thead th {\n",
       "        text-align: right;\n",
       "    }\n",
       "</style>\n",
       "<table border=\"1\" class=\"dataframe\">\n",
       "  <thead>\n",
       "    <tr style=\"text-align: right;\">\n",
       "      <th></th>\n",
       "      <th>True</th>\n",
       "      <th>False</th>\n",
       "    </tr>\n",
       "  </thead>\n",
       "  <tbody>\n",
       "    <tr>\n",
       "      <th>Positive</th>\n",
       "      <td>68213</td>\n",
       "      <td>0</td>\n",
       "    </tr>\n",
       "    <tr>\n",
       "      <th>Negative</th>\n",
       "      <td>31787</td>\n",
       "      <td>8</td>\n",
       "    </tr>\n",
       "  </tbody>\n",
       "</table>\n",
       "</div>"
      ],
      "text/plain": [
       "           True  False\n",
       "Positive  68213      0\n",
       "Negative  31787      8"
      ]
     },
     "execution_count": 103,
     "metadata": {},
     "output_type": "execute_result"
    }
   ],
   "source": [
    "truthtable"
   ]
  },
  {
   "cell_type": "markdown",
   "metadata": {},
   "source": [
    "Now we can see that there is no bad data collected."
   ]
  },
  {
   "cell_type": "markdown",
   "metadata": {},
   "source": [
    "\n",
    "\n",
    "\n",
    "\n",
    "Problem 2\n",
    "\n",
    "In this example we will be looking for asteroids. If we look at the alignment of stars on subsequent images, they don't perfectly align due to atmospheric and instrumental effects (even ignoring proper motion). The resulting distribution is two dimensional, and for this lab let's assume it is a 2D Gaussian with 1 arcsecond RMS. Or said another way, if I histogram how far all the (stationary) stars appear to have moved I get something like:"
   ]
  },
  {
   "cell_type": "code",
   "execution_count": 104,
   "metadata": {},
   "outputs": [
    {
     "data": {
      "text/plain": [
       "<matplotlib.colorbar.Colorbar at 0x7ff5c7f74fd0>"
      ]
     },
     "execution_count": 104,
     "metadata": {},
     "output_type": "execute_result"
    },
    {
     "data": {
      "image/png": "[encoded data removed]",
      "text/plain": [
       "<Figure size 1440x1080 with 2 Axes>"
      ]
     },
     "metadata": {
      "needs_background": "light"
     },
     "output_type": "display_data"
    }
   ],
   "source": [
    "a = np.vstack((stats.norm.rvs( scale = 1, size = 100000), stats.norm.rvs( scale = 1, size = 100000)))\n",
    "a.shape\n",
    "fig, ax = plt.subplots(1, 1)\n",
    "h = ax.hist2d(a[0,:],a[1,:],bins=100, density=True);\n",
    "ax.set_aspect('equal', 'box')\n",
    "plt.xlim([-3 , 3])\n",
    "plt.ylim([-3 , 3])\n",
    "plt.title(\"2D Histogram of positional uncertainty\", fontsize = 24)\n",
    "plt.ylabel(\"$\\Delta$y arcseconds\", fontsize = 18)\n",
    "plt.xlabel(\"$\\Delta$x arcseconds\", fontsize = 18)\n",
    "plt.colorbar(h[3], ax=ax)"
   ]
  },
  {
   "cell_type": "markdown",
   "metadata": {},
   "source": [
    "If I have a potential asteroid, it will have some true movement between the images. We would like a '5 sigma' detection of movement. What is that distance in arcseconds?\n",
    "\n",
    "What is the question in words?\n",
    "\n",
    "Under the background that there is a 2d Gaussian with a mean of 0 and a standard deviation of 1 arc second, how much will a star need to travel in arcesconds from the center?\n",
    "\n",
    "What is the question in math? [Hint: Come up with an analytic description of your pdf(). The Blue Book may be helpful here.]\n",
    "\n",
    "what is the distrance travelled by the star with a 5 sigma probability in a normal distribution? As it is a 2d guassian distribution, what is the distance passed by the star, which is the square root of (delta x square + delta y square).\n",
    "\n",
    "What distance in arcseconds represents a 5 sigma detection of motion?"
   ]
  },
  {
   "cell_type": "code",
   "execution_count": 116,
   "metadata": {},
   "outputs": [
    {
     "name": "stdout",
     "output_type": "stream",
     "text": [
      " Distance = 5.5\n"
     ]
    }
   ],
   "source": [
    "p = 1 - stats.norm.cdf(5)\n",
    "dis = stats.rayleigh.ppf(1-p)\n",
    "print(' Distance = ' + str(round(dis,1)))"
   ]
  },
  {
   "cell_type": "markdown",
   "metadata": {},
   "source": [
    "\n",
    "Problem 3\n",
    "\n",
    "As we discussed in class, one of the key backgrounds for gamma-ray telescopes are cosmic rays. Cosmic rays are charged particles—usually protons or electrons but can include atomic nuclei such a alpha particles (helium) or iron. Because of their charge cosmic rays spiral in the magnetic field of the galaxy. From the perspective of the Earth they appear to be coming uniformly from all directions like a high energy gas, and the direction the cosmic ray is travelling when it reaches the Earth tells us nothing about where it came from because we don't know what tortured path it has taken through the galaxy to reach us. However, at trillion electron volt energies and above, the spiral loops are fairly big and the sun and the moon will block cosmic rays. This means the sun and the moon appear as holes in the cosmic ray sky (cosmic rays from that direction are absorbed).\n",
    "\n",
    "Assume in a moon sized patch on the sky we normally have a cosmic ray rate of 1 cosmic ray per minute (arrivals are random in time). If we can observe where the moon is for 8 hours per night (not too close to the horizon) and we observe for 15 days and see 6800 cosmic rays, what is the signficance of our moon shadow detection?"
   ]
  },
  {
   "cell_type": "markdown",
   "metadata": {},
   "source": [
    "1. What is the question in words?"
   ]
  },
  {
   "cell_type": "markdown",
   "metadata": {},
   "source": [
    "What is the probability of seeing 6800 rays or less in 15 days?"
   ]
  },
  {
   "cell_type": "markdown",
   "metadata": {},
   "source": [
    "2. Translate the question to math, describing both the expected background pdf() and the integral you need to do."
   ]
  },
  {
   "cell_type": "markdown",
   "metadata": {},
   "source": [
    "$$Probability = \\int_{-\\infty}^{6800}Poission(\\mu=7200)\\;dx$$"
   ]
  },
  {
   "cell_type": "markdown",
   "metadata": {},
   "source": [
    "From the background information, we know that there are 7200 rays since there are 15 days with 1 ray per minite and 8 hours per day.  We can also know that it is a Poisson distribution and with the background Poisson distribution, what is the sigma value under the probability of seeing 6800 rays or less in 15 days?"
   ]
  },
  {
   "cell_type": "markdown",
   "metadata": {},
   "source": [
    "3. Convert to sigma."
   ]
  },
  {
   "cell_type": "code",
   "execution_count": 123,
   "metadata": {},
   "outputs": [
    {
     "name": "stdout",
     "output_type": "stream",
     "text": [
      "The sigma value is 4.750747965778662\n",
      "The probability is 1.0133280183917768e-06\n"
     ]
    }
   ],
   "source": [
    "mean = 7200\n",
    "probability = stats.poisson.cdf(6800,mean)\n",
    "sig = stats.norm.ppf(1-probability)\n",
    "print(\"The sigma value is \" + str(sig))\n",
    "print('The probability is ' + str(probability))"
   ]
  },
  {
   "cell_type": "code",
   "execution_count": null,
   "metadata": {},
   "outputs": [],
   "source": []
  }
 ],
 "metadata": {
  "kernelspec": {
   "display_name": "Python 3",
   "language": "python",
   "name": "python3"
  },
  "language_info": {
   "codemirror_mode": {
    "name": "ipython",
    "version": 3
   },
   "file_extension": ".py",
   "mimetype": "text/x-python",
   "name": "python",
   "nbconvert_exporter": "python",
   "pygments_lexer": "ipython3",
   "version": "3.7.4"
  }
 },
 "nbformat": 4,
 "nbformat_minor": 4
}
